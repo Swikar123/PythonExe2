{
 "cells": [
  {
   "cell_type": "markdown",
   "metadata": {},
   "source": [
    "# Python Lab Exercise #2\n",
    "\n",
    "## Objectives:\n",
    "\n",
    "- Load .csv files into `pandas` DataFrames\n",
    "- Describe and manipulate data in Series and DataFrames\n",
    "- Visualize data using DataFrame methods and `matplotlib`"
   ]
  },
  {
   "cell_type": "markdown",
   "metadata": {},
   "source": [
    "![pandas](https://upload.wikimedia.org/wikipedia/commons/thumb/e/ed/Pandas_logo.svg/2880px-Pandas_logo.svg.png)"
   ]
  },
  {
   "cell_type": "code",
   "execution_count": null,
   "metadata": {},
   "outputs": [],
   "source": [
    "import pandas as pd\n",
    "import numpy as np\n",
    "import matplotlib.pyplot as plt\n",
    "import seaborn as sns\n",
    "import sqlite3"
   ]
  },
  {
   "cell_type": "markdown",
   "metadata": {
    "heading_collapsed": true
   },
   "source": [
    "## What is Pandas?"
   ]
  },
  {
   "cell_type": "markdown",
   "metadata": {
    "hidden": true
   },
   "source": [
    "Pandas, as [the Anaconda docs](https://docs.anaconda.com/anaconda/packages/py3.7_osx-64/) tell us, offers us \"High-performance, easy-to-use data structures and data analysis tools.\" It's something like \"Excel for Python\", but it's quite a bit more powerful."
   ]
  },
  {
   "cell_type": "markdown",
   "metadata": {
    "hidden": true
   },
   "source": [
    "Let's read in the heart dataset.\n",
    "\n",
    "Pandas has many methods for reading different types of files. Note that here we have a .csv file.\n",
    "\n",
    "Read about this dataset [here](https://www.kaggle.com/ronitf/heart-disease-uci)."
   ]
  },
  {
   "cell_type": "code",
   "execution_count": 2,
   "metadata": {
    "hidden": true
   },
   "outputs": [
    {
     "name": "stdout",
     "output_type": "stream",
     "text": [
      "Tables in the database:\n",
      "        name\n",
      "0     heart\n",
      "1    school\n",
      "2   student\n",
      "3  fastfood\n",
      "   id  age  sex  cp  trestbps  chol  fbs  restecg  thalach  exang  oldpeak  \\\n",
      "0   0   63    1   3       145   233    1        0      150      0      2.3   \n",
      "1   1   37    1   2       130   250    0        1      187      0      3.5   \n",
      "2   2   41    0   1       130   204    0        0      172      0      1.4   \n",
      "3   3   56    1   1       120   236    0        1      178      0      0.8   \n",
      "4   4   57    0   0       120   354    0        1      163      1      0.6   \n",
      "\n",
      "   slope  ca  thal  target  \n",
      "0      0   0     1       1  \n",
      "1      0   0     2       1  \n",
      "2      2   0     2       1  \n",
      "3      2   0     2       1  \n",
      "4      2   0     2       1  \n"
     ]
    }
   ],
   "source": [
    "import sqlite3\n",
    "import pandas as pd\n",
    "\n",
    "con = sqlite3.connect(\"/Users/swikar/Desktop/python.db\")\n",
    "\n",
    "tables = pd.read_sql_query(\"SELECT name FROM sqlite_master WHERE type='table';\", con)\n",
    "print(\"Tables in the database:\\n\", tables)\n",
    "\n",
    "heart_df = pd.read_sql_query(\"SELECT * FROM heart;\", con)\n",
    "\n",
    "con.close()\n",
    "print(heart_df.head())\n"
   ]
  },
  {
   "cell_type": "markdown",
   "metadata": {
    "hidden": true
   },
   "source": [
    "The output of the `.to_sql()` function is a pandas *DataFrame*, which has a familiar tabaular structure of rows and columns."
   ]
  },
  {
   "cell_type": "code",
   "execution_count": 3,
   "metadata": {
    "hidden": true
   },
   "outputs": [
    {
     "data": {
      "text/plain": [
       "pandas.core.frame.DataFrame"
      ]
     },
     "execution_count": 3,
     "metadata": {},
     "output_type": "execute_result"
    }
   ],
   "source": [
    "type(heart_df)"
   ]
  },
  {
   "cell_type": "markdown",
   "metadata": {
    "heading_collapsed": true,
    "hidden": true
   },
   "source": [
    "## DataFrames and Series"
   ]
  },
  {
   "cell_type": "markdown",
   "metadata": {
    "hidden": true
   },
   "source": [
    "Two main types of pandas objects are the DataFrame and the Series, the latter being in effect a single column of the former:"
   ]
  },
  {
   "cell_type": "code",
   "execution_count": 4,
   "metadata": {
    "hidden": true
   },
   "outputs": [
    {
     "data": {
      "text/plain": [
       "pandas.core.series.Series"
      ]
     },
     "execution_count": 4,
     "metadata": {},
     "output_type": "execute_result"
    }
   ],
   "source": [
    "age_series = heart_df['age']\n",
    "type(age_series)"
   ]
  },
  {
   "cell_type": "markdown",
   "metadata": {
    "hidden": true
   },
   "source": [
    "Notice how we can isolate a column of our DataFrame simply by using square brackets together with the name of the column."
   ]
  },
  {
   "cell_type": "markdown",
   "metadata": {
    "hidden": true
   },
   "source": [
    "Both Series and DataFrames have an *index* as well:"
   ]
  },
  {
   "cell_type": "code",
   "execution_count": 6,
   "metadata": {
    "hidden": true
   },
   "outputs": [
    {
     "name": "stdout",
     "output_type": "stream",
     "text": [
      "RangeIndex(start=0, stop=303, step=1)\n"
     ]
    }
   ],
   "source": [
    "heart_df.index\n"
   ]
  },
  {
   "cell_type": "code",
   "execution_count": null,
   "metadata": {
    "hidden": true
   },
   "outputs": [],
   "source": [
    "age_series.index"
   ]
  },
  {
   "cell_type": "markdown",
   "metadata": {
    "hidden": true
   },
   "source": [
    "Pandas is built on top of NumPy, and we can always access the NumPy array underlying a DataFrame using `.values`."
   ]
  },
  {
   "cell_type": "code",
   "execution_count": 7,
   "metadata": {
    "hidden": true
   },
   "outputs": [
    {
     "data": {
      "text/plain": [
       "array([[  0.,  63.,   1., ...,   0.,   1.,   1.],\n",
       "       [  1.,  37.,   1., ...,   0.,   2.,   1.],\n",
       "       [  2.,  41.,   0., ...,   0.,   2.,   1.],\n",
       "       ...,\n",
       "       [300.,  68.,   1., ...,   2.,   3.,   0.],\n",
       "       [301.,  57.,   1., ...,   1.,   3.,   0.],\n",
       "       [302.,  57.,   0., ...,   1.,   2.,   0.]])"
      ]
     },
     "execution_count": 7,
     "metadata": {},
     "output_type": "execute_result"
    }
   ],
   "source": [
    "heart_df.values"
   ]
  },
  {
   "cell_type": "markdown",
   "metadata": {
    "heading_collapsed": true,
    "hidden": true
   },
   "source": [
    "## Basic DataFrame Attributes and Methods"
   ]
  },
  {
   "cell_type": "markdown",
   "metadata": {
    "heading_collapsed": true,
    "hidden": true
   },
   "source": [
    "### `.head()`"
   ]
  },
  {
   "cell_type": "code",
   "execution_count": 8,
   "metadata": {
    "hidden": true
   },
   "outputs": [
    {
     "name": "stdout",
     "output_type": "stream",
     "text": [
      "   id  age  sex  cp  trestbps  chol  fbs  restecg  thalach  exang  oldpeak  \\\n",
      "0   0   63    1   3       145   233    1        0      150      0      2.3   \n",
      "1   1   37    1   2       130   250    0        1      187      0      3.5   \n",
      "2   2   41    0   1       130   204    0        0      172      0      1.4   \n",
      "3   3   56    1   1       120   236    0        1      178      0      0.8   \n",
      "4   4   57    0   0       120   354    0        1      163      1      0.6   \n",
      "\n",
      "   slope  ca  thal  target  \n",
      "0      0   0     1       1  \n",
      "1      0   0     2       1  \n",
      "2      2   0     2       1  \n",
      "3      2   0     2       1  \n",
      "4      2   0     2       1  \n"
     ]
    }
   ],
   "source": [
    "print(heart_df.head())\n"
   ]
  },
  {
   "cell_type": "markdown",
   "metadata": {
    "heading_collapsed": true,
    "hidden": true
   },
   "source": [
    "### `.tail()`"
   ]
  },
  {
   "cell_type": "code",
   "execution_count": 9,
   "metadata": {
    "hidden": true
   },
   "outputs": [
    {
     "name": "stdout",
     "output_type": "stream",
     "text": [
      "      id  age  sex  cp  trestbps  chol  fbs  restecg  thalach  exang  oldpeak  \\\n",
      "298  298   57    0   0       140   241    0        1      123      1      0.2   \n",
      "299  299   45    1   3       110   264    0        1      132      0      1.2   \n",
      "300  300   68    1   0       144   193    1        1      141      0      3.4   \n",
      "301  301   57    1   0       130   131    0        1      115      1      1.2   \n",
      "302  302   57    0   1       130   236    0        0      174      0      0.0   \n",
      "\n",
      "     slope  ca  thal  target  \n",
      "298      1   0     3       0  \n",
      "299      1   0     3       0  \n",
      "300      1   2     3       0  \n",
      "301      1   1     3       0  \n",
      "302      1   1     2       0  \n"
     ]
    }
   ],
   "source": [
    "print(heart_df.tail())\n"
   ]
  },
  {
   "cell_type": "markdown",
   "metadata": {
    "heading_collapsed": true,
    "hidden": true
   },
   "source": [
    "### `.info()`"
   ]
  },
  {
   "cell_type": "code",
   "execution_count": null,
   "metadata": {
    "hidden": true
   },
   "outputs": [],
   "source": [
    "print(heart_df.info())\n"
   ]
  },
  {
   "cell_type": "markdown",
   "metadata": {
    "heading_collapsed": true,
    "hidden": true
   },
   "source": [
    "### `.describe()`"
   ]
  },
  {
   "cell_type": "code",
   "execution_count": 10,
   "metadata": {
    "hidden": true,
    "scrolled": true
   },
   "outputs": [
    {
     "name": "stdout",
     "output_type": "stream",
     "text": [
      "               id         age         sex          cp    trestbps        chol  \\\n",
      "count  303.000000  303.000000  303.000000  303.000000  303.000000  303.000000   \n",
      "mean   151.000000   54.366337    0.683168    0.966997  131.623762  246.264026   \n",
      "std     87.612784    9.082101    0.466011    1.032052   17.538143   51.830751   \n",
      "min      0.000000   29.000000    0.000000    0.000000   94.000000  126.000000   \n",
      "25%     75.500000   47.500000    0.000000    0.000000  120.000000  211.000000   \n",
      "50%    151.000000   55.000000    1.000000    1.000000  130.000000  240.000000   \n",
      "75%    226.500000   61.000000    1.000000    2.000000  140.000000  274.500000   \n",
      "max    302.000000   77.000000    1.000000    3.000000  200.000000  564.000000   \n",
      "\n",
      "              fbs     restecg     thalach       exang     oldpeak       slope  \\\n",
      "count  303.000000  303.000000  303.000000  303.000000  303.000000  303.000000   \n",
      "mean     0.148515    0.528053  149.646865    0.326733    1.039604    1.399340   \n",
      "std      0.356198    0.525860   22.905161    0.469794    1.161075    0.616226   \n",
      "min      0.000000    0.000000   71.000000    0.000000    0.000000    0.000000   \n",
      "25%      0.000000    0.000000  133.500000    0.000000    0.000000    1.000000   \n",
      "50%      0.000000    1.000000  153.000000    0.000000    0.800000    1.000000   \n",
      "75%      0.000000    1.000000  166.000000    1.000000    1.600000    2.000000   \n",
      "max      1.000000    2.000000  202.000000    1.000000    6.200000    2.000000   \n",
      "\n",
      "               ca        thal      target  \n",
      "count  303.000000  303.000000  303.000000  \n",
      "mean     0.729373    2.313531    0.544554  \n",
      "std      1.022606    0.612277    0.498835  \n",
      "min      0.000000    0.000000    0.000000  \n",
      "25%      0.000000    2.000000    0.000000  \n",
      "50%      0.000000    2.000000    1.000000  \n",
      "75%      1.000000    3.000000    1.000000  \n",
      "max      4.000000    3.000000    1.000000  \n"
     ]
    }
   ],
   "source": [
    "# complete the python code here\n",
    "print(heart_df.describe())\n"
   ]
  },
  {
   "cell_type": "markdown",
   "metadata": {
    "heading_collapsed": true,
    "hidden": true
   },
   "source": [
    "### `.dtypes`"
   ]
  },
  {
   "cell_type": "code",
   "execution_count": 11,
   "metadata": {
    "hidden": true
   },
   "outputs": [
    {
     "name": "stdout",
     "output_type": "stream",
     "text": [
      "id            int64\n",
      "age           int64\n",
      "sex           int64\n",
      "cp            int64\n",
      "trestbps      int64\n",
      "chol          int64\n",
      "fbs           int64\n",
      "restecg       int64\n",
      "thalach       int64\n",
      "exang         int64\n",
      "oldpeak     float64\n",
      "slope         int64\n",
      "ca            int64\n",
      "thal          int64\n",
      "target        int64\n",
      "dtype: object\n"
     ]
    }
   ],
   "source": [
    "print(heart_df.dtypes)\n"
   ]
  },
  {
   "cell_type": "markdown",
   "metadata": {
    "heading_collapsed": true,
    "hidden": true
   },
   "source": [
    "### `.shape`"
   ]
  },
  {
   "cell_type": "code",
   "execution_count": 12,
   "metadata": {
    "hidden": true
   },
   "outputs": [
    {
     "name": "stdout",
     "output_type": "stream",
     "text": [
      "(303, 15)\n"
     ]
    }
   ],
   "source": [
    "print(heart_df.shape)\n"
   ]
  },
  {
   "cell_type": "markdown",
   "metadata": {
    "heading_collapsed": true,
    "hidden": true
   },
   "source": [
    "### Exploratory Plots"
   ]
  },
  {
   "cell_type": "markdown",
   "metadata": {
    "hidden": true
   },
   "source": [
    "Let's make ourselves a histogram of ages:"
   ]
  },
  {
   "cell_type": "code",
   "execution_count": 14,
   "metadata": {
    "hidden": true,
    "scrolled": true
   },
   "outputs": [
    {
     "data": {
      "image/png": "[encoded data removed]",
      "text/plain": [
       "<Figure size 640x480 with 1 Axes>"
      ]
     },
     "metadata": {},
     "output_type": "display_data"
    }
   ],
   "source": [
    "\n",
    "\n",
    "import seaborn as sns\n",
    "import matplotlib.pyplot as plt\n",
    "\n",
    "sns.set_style('darkgrid')\n",
    "\n",
    "sns.histplot(data=heart_df, x='age', kde=True)\n",
    "\n",
    "plt.show()\n"
   ]
  },
  {
   "cell_type": "markdown",
   "metadata": {
    "hidden": true
   },
   "source": [
    "And while we're at it let's do a scatter plot of maximum heart rate vs. age:"
   ]
  },
  {
   "cell_type": "code",
   "execution_count": 15,
   "metadata": {
    "hidden": true
   },
   "outputs": [
    {
     "data": {
      "image/png": "[encoded data removed]",
      "text/plain": [
       "<Figure size 640x480 with 1 Axes>"
      ]
     },
     "metadata": {},
     "output_type": "display_data"
    }
   ],
   "source": [
    "sns.scatterplot(x=heart_df['age'], y=heart_df['thalach']);"
   ]
  },
  {
   "cell_type": "markdown",
   "metadata": {
    "heading_collapsed": true
   },
   "source": [
    "## Adding to a DataFrame"
   ]
  },
  {
   "cell_type": "markdown",
   "metadata": {
    "heading_collapsed": true,
    "hidden": true
   },
   "source": [
    "### Adding Rows"
   ]
  },
  {
   "cell_type": "markdown",
   "metadata": {
    "hidden": true
   },
   "source": [
    "Here are two rows that our engineer accidentally left out of the .csv file, expressed as a Python dictionary:"
   ]
  },
  {
   "cell_type": "code",
   "execution_count": 16,
   "metadata": {
    "hidden": true
   },
   "outputs": [
    {
     "data": {
      "text/plain": [
       "{'age': [40, 30],\n",
       " 'sex': [1, 0],\n",
       " 'cp': [0, 0],\n",
       " 'trestbps': [120, 130],\n",
       " 'chol': [240, 200],\n",
       " 'fbs': [0, 0],\n",
       " 'restecg': [1, 0],\n",
       " 'thalach': [120, 122],\n",
       " 'exang': [0, 1],\n",
       " 'oldpeak': [0.1, 1.0],\n",
       " 'slope': [1, 1],\n",
       " 'ca': [0, 1],\n",
       " 'thal': [2, 3],\n",
       " 'target': [0, 0]}"
      ]
     },
     "execution_count": 16,
     "metadata": {},
     "output_type": "execute_result"
    }
   ],
   "source": [
    "extra_rows = {'age': [40, 30], \n",
    "              'sex': [1, 0], \n",
    "              'cp': [0, 0], \n",
    "              'trestbps': [120, 130],\n",
    "              'chol': [240, 200],\n",
    "              'fbs': [0, 0], \n",
    "              'restecg': [1, 0], \n",
    "              'thalach': [120, 122], \n",
    "              'exang': [0, 1],\n",
    "              'oldpeak': [0.1, 1.0], \n",
    "              'slope': [1, 1], \n",
    "              'ca': [0, 1], \n",
    "              'thal': [2, 3],\n",
    "              'target': [0, 0]}\n",
    "extra_rows"
   ]
  },
  {
   "cell_type": "markdown",
   "metadata": {
    "hidden": true
   },
   "source": [
    "How can we add this to the bottom of our dataset?"
   ]
  },
  {
   "cell_type": "code",
   "execution_count": 17,
   "metadata": {
    "hidden": true
   },
   "outputs": [
    {
     "data": {
      "text/html": [
       "<div>\n",
       "<style scoped>\n",
       "    .dataframe tbody tr th:only-of-type {\n",
       "        vertical-align: middle;\n",
       "    }\n",
       "\n",
       "    .dataframe tbody tr th {\n",
       "        vertical-align: top;\n",
       "    }\n",
       "\n",
       "    .dataframe thead th {\n",
       "        text-align: right;\n",
       "    }\n",
       "</style>\n",
       "<table border=\"1\" class=\"dataframe\">\n",
       "  <thead>\n",
       "    <tr style=\"text-align: right;\">\n",
       "      <th></th>\n",
       "      <th>age</th>\n",
       "      <th>sex</th>\n",
       "      <th>cp</th>\n",
       "      <th>trestbps</th>\n",
       "      <th>chol</th>\n",
       "      <th>fbs</th>\n",
       "      <th>restecg</th>\n",
       "      <th>thalach</th>\n",
       "      <th>exang</th>\n",
       "      <th>oldpeak</th>\n",
       "      <th>slope</th>\n",
       "      <th>ca</th>\n",
       "      <th>thal</th>\n",
       "      <th>target</th>\n",
       "    </tr>\n",
       "  </thead>\n",
       "  <tbody>\n",
       "    <tr>\n",
       "      <th>0</th>\n",
       "      <td>40</td>\n",
       "      <td>1</td>\n",
       "      <td>0</td>\n",
       "      <td>120</td>\n",
       "      <td>240</td>\n",
       "      <td>0</td>\n",
       "      <td>1</td>\n",
       "      <td>120</td>\n",
       "      <td>0</td>\n",
       "      <td>0.1</td>\n",
       "      <td>1</td>\n",
       "      <td>0</td>\n",
       "      <td>2</td>\n",
       "      <td>0</td>\n",
       "    </tr>\n",
       "    <tr>\n",
       "      <th>1</th>\n",
       "      <td>30</td>\n",
       "      <td>0</td>\n",
       "      <td>0</td>\n",
       "      <td>130</td>\n",
       "      <td>200</td>\n",
       "      <td>0</td>\n",
       "      <td>0</td>\n",
       "      <td>122</td>\n",
       "      <td>1</td>\n",
       "      <td>1.0</td>\n",
       "      <td>1</td>\n",
       "      <td>1</td>\n",
       "      <td>3</td>\n",
       "      <td>0</td>\n",
       "    </tr>\n",
       "  </tbody>\n",
       "</table>\n",
       "</div>"
      ],
      "text/plain": [
       "   age  sex  cp  trestbps  chol  fbs  restecg  thalach  exang  oldpeak  slope  \\\n",
       "0   40    1   0       120   240    0        1      120      0      0.1      1   \n",
       "1   30    0   0       130   200    0        0      122      1      1.0      1   \n",
       "\n",
       "   ca  thal  target  \n",
       "0   0     2       0  \n",
       "1   1     3       0  "
      ]
     },
     "execution_count": 17,
     "metadata": {},
     "output_type": "execute_result"
    }
   ],
   "source": [
    "\n",
    "missing = pd.DataFrame(extra_rows)\n",
    "missing"
   ]
  },
  {
   "cell_type": "code",
   "execution_count": 18,
   "metadata": {
    "hidden": true
   },
   "outputs": [
    {
     "name": "stdout",
     "output_type": "stream",
     "text": [
      "        id  age  sex  cp  trestbps  chol  fbs  restecg  thalach  exang  \\\n",
      "0      0.0   63    1   3       145   233    1        0      150      0   \n",
      "1      1.0   37    1   2       130   250    0        1      187      0   \n",
      "2      2.0   41    0   1       130   204    0        0      172      0   \n",
      "3      3.0   56    1   1       120   236    0        1      178      0   \n",
      "4      4.0   57    0   0       120   354    0        1      163      1   \n",
      "..     ...  ...  ...  ..       ...   ...  ...      ...      ...    ...   \n",
      "300  300.0   68    1   0       144   193    1        1      141      0   \n",
      "301  301.0   57    1   0       130   131    0        1      115      1   \n",
      "302  302.0   57    0   1       130   236    0        0      174      0   \n",
      "303    NaN   40    1   0       120   240    0        1      120      0   \n",
      "304    NaN   30    0   0       130   200    0        0      122      1   \n",
      "\n",
      "     oldpeak  slope  ca  thal  target  \n",
      "0        2.3      0   0     1       1  \n",
      "1        3.5      0   0     2       1  \n",
      "2        1.4      2   0     2       1  \n",
      "3        0.8      2   0     2       1  \n",
      "4        0.6      2   0     2       1  \n",
      "..       ...    ...  ..   ...     ...  \n",
      "300      3.4      1   2     3       0  \n",
      "301      1.2      1   1     3       0  \n",
      "302      0.0      1   1     2       0  \n",
      "303      0.1      1   0     2       0  \n",
      "304      1.0      1   1     3       0  \n",
      "\n",
      "[305 rows x 15 columns]\n"
     ]
    }
   ],
   "source": [
    "heart_df = pd.concat([heart_df, missing], ignore_index=True)\n",
    "\n",
    "print(heart_df)\n",
    "\n"
   ]
  },
  {
   "cell_type": "code",
   "execution_count": 19,
   "metadata": {
    "hidden": true
   },
   "outputs": [
    {
     "name": "stdout",
     "output_type": "stream",
     "text": [
      "        id  age  sex  cp  trestbps  chol  fbs  restecg  thalach  exang  \\\n",
      "300  300.0   68    1   0       144   193    1        1      141      0   \n",
      "301  301.0   57    1   0       130   131    0        1      115      1   \n",
      "302  302.0   57    0   1       130   236    0        0      174      0   \n",
      "303    NaN   40    1   0       120   240    0        1      120      0   \n",
      "304    NaN   30    0   0       130   200    0        0      122      1   \n",
      "\n",
      "     oldpeak  slope  ca  thal  target  \n",
      "300      3.4      1   2     3       0  \n",
      "301      1.2      1   1     3       0  \n",
      "302      0.0      1   1     2       0  \n",
      "303      0.1      1   0     2       0  \n",
      "304      1.0      1   1     3       0  \n"
     ]
    }
   ],
   "source": [
    "print(heart_df.tail())\n",
    "\n",
    "\n"
   ]
  },
  {
   "cell_type": "markdown",
   "metadata": {
    "heading_collapsed": true,
    "hidden": true
   },
   "source": [
    "### Adding Columns"
   ]
  },
  {
   "cell_type": "markdown",
   "metadata": {
    "hidden": true
   },
   "source": [
    "Adding a column is very easy in `pandas`. Let's add a new column to our dataset called \"test\", and set all of its values to 0."
   ]
  },
  {
   "cell_type": "code",
   "execution_count": 22,
   "metadata": {
    "hidden": true
   },
   "outputs": [
    {
     "name": "stdout",
     "output_type": "stream",
     "text": [
      "    id  age  sex  cp  trestbps  chol  fbs  restecg  thalach  exang  oldpeak  \\\n",
      "0  0.0   63    1   3       145   233    1        0      150      0      2.3   \n",
      "1  1.0   37    1   2       130   250    0        1      187      0      3.5   \n",
      "2  2.0   41    0   1       130   204    0        0      172      0      1.4   \n",
      "3  3.0   56    1   1       120   236    0        1      178      0      0.8   \n",
      "4  4.0   57    0   0       120   354    0        1      163      1      0.6   \n",
      "\n",
      "   slope  ca  thal  target  test  \n",
      "0      0   0     1       1     0  \n",
      "1      0   0     2       1     0  \n",
      "2      2   0     2       1     0  \n",
      "3      2   0     2       1     0  \n",
      "4      2   0     2       1     0  \n"
     ]
    }
   ],
   "source": [
    "\n",
    "heart_df['test'] = 0\n",
    "\n",
    "print(heart_df.head())\n"
   ]
  },
  {
   "cell_type": "code",
   "execution_count": 26,
   "metadata": {
    "hidden": true
   },
   "outputs": [
    {
     "name": "stdout",
     "output_type": "stream",
     "text": [
      "    id  age  sex  cp  trestbps  chol  fbs  restecg  thalach  exang  oldpeak  \\\n",
      "0  0.0   63    1   3       145   233    1        0      150      0      2.3   \n",
      "1  1.0   37    1   2       130   250    0        1      187      0      3.5   \n",
      "2  2.0   41    0   1       130   204    0        0      172      0      1.4   \n",
      "3  3.0   56    1   1       120   236    0        1      178      0      0.8   \n",
      "4  4.0   57    0   0       120   354    0        1      163      1      0.6   \n",
      "\n",
      "   slope  ca  thal  target  test  \n",
      "0      0   0     1       1     0  \n",
      "1      0   0     2       1     0  \n",
      "2      2   0     2       1     0  \n",
      "3      2   0     2       1     0  \n",
      "4      2   0     2       1     0  \n"
     ]
    }
   ],
   "source": [
    "heart_augmented = heart_df.copy()\n",
    "heart_augmented['test'] = 0\n",
    "\n",
    "print(heart_augmented.head())\n"
   ]
  },
  {
   "cell_type": "markdown",
   "metadata": {
    "hidden": true
   },
   "source": [
    "I can also add columns whose values are functions of existing columns.\n",
    "\n",
    "Suppose I want to add the cholesterol column (\"chol\") to the resting systolic blood pressure column (\"trestbps\"):"
   ]
  },
  {
   "cell_type": "code",
   "execution_count": 29,
   "metadata": {
    "hidden": true
   },
   "outputs": [],
   "source": [
    "\n",
    "heart_augmented['chol_trestbps_sum'] = heart_augmented['chol'] + heart_augmented['trestbps']\n",
    "\n"
   ]
  },
  {
   "cell_type": "code",
   "execution_count": 28,
   "metadata": {
    "hidden": true
   },
   "outputs": [
    {
     "name": "stdout",
     "output_type": "stream",
     "text": [
      "    id  age  sex  cp  trestbps  chol  fbs  restecg  thalach  exang  oldpeak  \\\n",
      "0  0.0   63    1   3       145   233    1        0      150      0      2.3   \n",
      "1  1.0   37    1   2       130   250    0        1      187      0      3.5   \n",
      "2  2.0   41    0   1       130   204    0        0      172      0      1.4   \n",
      "3  3.0   56    1   1       120   236    0        1      178      0      0.8   \n",
      "4  4.0   57    0   0       120   354    0        1      163      1      0.6   \n",
      "\n",
      "   slope  ca  thal  target  test  chol_trestbps_sum  \n",
      "0      0   0     1       1     0                378  \n",
      "1      0   0     2       1     0                380  \n",
      "2      2   0     2       1     0                334  \n",
      "3      2   0     2       1     0                356  \n",
      "4      2   0     2       1     0                474  \n"
     ]
    }
   ],
   "source": [
    "print(heart_augmented.head())\n"
   ]
  },
  {
   "cell_type": "markdown",
   "metadata": {
    "heading_collapsed": true
   },
   "source": [
    "## Filtering"
   ]
  },
  {
   "cell_type": "markdown",
   "metadata": {
    "hidden": true
   },
   "source": [
    "We can use filtering techniques to see only certain rows of our data. If we wanted to see only the rows for patients 70 years of age or older, we can simply type:"
   ]
  },
  {
   "cell_type": "code",
   "execution_count": 30,
   "metadata": {},
   "outputs": [
    {
     "data": {
      "text/plain": [
       "0      False\n",
       "1      False\n",
       "2      False\n",
       "3      False\n",
       "4      False\n",
       "       ...  \n",
       "300    False\n",
       "301    False\n",
       "302    False\n",
       "303    False\n",
       "304    False\n",
       "Name: age, Length: 305, dtype: bool"
      ]
     },
     "execution_count": 30,
     "metadata": {},
     "output_type": "execute_result"
    }
   ],
   "source": [
    "heart_augmented['age'] >= 70"
   ]
  },
  {
   "cell_type": "code",
   "execution_count": 31,
   "metadata": {
    "hidden": true
   },
   "outputs": [
    {
     "data": {
      "text/html": [
       "<div>\n",
       "<style scoped>\n",
       "    .dataframe tbody tr th:only-of-type {\n",
       "        vertical-align: middle;\n",
       "    }\n",
       "\n",
       "    .dataframe tbody tr th {\n",
       "        vertical-align: top;\n",
       "    }\n",
       "\n",
       "    .dataframe thead th {\n",
       "        text-align: right;\n",
       "    }\n",
       "</style>\n",
       "<table border=\"1\" class=\"dataframe\">\n",
       "  <thead>\n",
       "    <tr style=\"text-align: right;\">\n",
       "      <th></th>\n",
       "      <th>id</th>\n",
       "      <th>age</th>\n",
       "      <th>sex</th>\n",
       "      <th>cp</th>\n",
       "      <th>trestbps</th>\n",
       "      <th>chol</th>\n",
       "      <th>fbs</th>\n",
       "      <th>restecg</th>\n",
       "      <th>thalach</th>\n",
       "      <th>exang</th>\n",
       "      <th>oldpeak</th>\n",
       "      <th>slope</th>\n",
       "      <th>ca</th>\n",
       "      <th>thal</th>\n",
       "      <th>target</th>\n",
       "      <th>test</th>\n",
       "      <th>chol_trestbps_sum</th>\n",
       "    </tr>\n",
       "  </thead>\n",
       "  <tbody>\n",
       "    <tr>\n",
       "      <th>25</th>\n",
       "      <td>25.0</td>\n",
       "      <td>71</td>\n",
       "      <td>0</td>\n",
       "      <td>1</td>\n",
       "      <td>160</td>\n",
       "      <td>302</td>\n",
       "      <td>0</td>\n",
       "      <td>1</td>\n",
       "      <td>162</td>\n",
       "      <td>0</td>\n",
       "      <td>0.4</td>\n",
       "      <td>2</td>\n",
       "      <td>2</td>\n",
       "      <td>2</td>\n",
       "      <td>1</td>\n",
       "      <td>0</td>\n",
       "      <td>462</td>\n",
       "    </tr>\n",
       "    <tr>\n",
       "      <th>60</th>\n",
       "      <td>60.0</td>\n",
       "      <td>71</td>\n",
       "      <td>0</td>\n",
       "      <td>2</td>\n",
       "      <td>110</td>\n",
       "      <td>265</td>\n",
       "      <td>1</td>\n",
       "      <td>0</td>\n",
       "      <td>130</td>\n",
       "      <td>0</td>\n",
       "      <td>0.0</td>\n",
       "      <td>2</td>\n",
       "      <td>1</td>\n",
       "      <td>2</td>\n",
       "      <td>1</td>\n",
       "      <td>0</td>\n",
       "      <td>375</td>\n",
       "    </tr>\n",
       "    <tr>\n",
       "      <th>129</th>\n",
       "      <td>129.0</td>\n",
       "      <td>74</td>\n",
       "      <td>0</td>\n",
       "      <td>1</td>\n",
       "      <td>120</td>\n",
       "      <td>269</td>\n",
       "      <td>0</td>\n",
       "      <td>0</td>\n",
       "      <td>121</td>\n",
       "      <td>1</td>\n",
       "      <td>0.2</td>\n",
       "      <td>2</td>\n",
       "      <td>1</td>\n",
       "      <td>2</td>\n",
       "      <td>1</td>\n",
       "      <td>0</td>\n",
       "      <td>389</td>\n",
       "    </tr>\n",
       "    <tr>\n",
       "      <th>144</th>\n",
       "      <td>144.0</td>\n",
       "      <td>76</td>\n",
       "      <td>0</td>\n",
       "      <td>2</td>\n",
       "      <td>140</td>\n",
       "      <td>197</td>\n",
       "      <td>0</td>\n",
       "      <td>2</td>\n",
       "      <td>116</td>\n",
       "      <td>0</td>\n",
       "      <td>1.1</td>\n",
       "      <td>1</td>\n",
       "      <td>0</td>\n",
       "      <td>2</td>\n",
       "      <td>1</td>\n",
       "      <td>0</td>\n",
       "      <td>337</td>\n",
       "    </tr>\n",
       "    <tr>\n",
       "      <th>145</th>\n",
       "      <td>145.0</td>\n",
       "      <td>70</td>\n",
       "      <td>1</td>\n",
       "      <td>1</td>\n",
       "      <td>156</td>\n",
       "      <td>245</td>\n",
       "      <td>0</td>\n",
       "      <td>0</td>\n",
       "      <td>143</td>\n",
       "      <td>0</td>\n",
       "      <td>0.0</td>\n",
       "      <td>2</td>\n",
       "      <td>0</td>\n",
       "      <td>2</td>\n",
       "      <td>1</td>\n",
       "      <td>0</td>\n",
       "      <td>401</td>\n",
       "    </tr>\n",
       "    <tr>\n",
       "      <th>151</th>\n",
       "      <td>151.0</td>\n",
       "      <td>71</td>\n",
       "      <td>0</td>\n",
       "      <td>0</td>\n",
       "      <td>112</td>\n",
       "      <td>149</td>\n",
       "      <td>0</td>\n",
       "      <td>1</td>\n",
       "      <td>125</td>\n",
       "      <td>0</td>\n",
       "      <td>1.6</td>\n",
       "      <td>1</td>\n",
       "      <td>0</td>\n",
       "      <td>2</td>\n",
       "      <td>1</td>\n",
       "      <td>0</td>\n",
       "      <td>261</td>\n",
       "    </tr>\n",
       "    <tr>\n",
       "      <th>225</th>\n",
       "      <td>225.0</td>\n",
       "      <td>70</td>\n",
       "      <td>1</td>\n",
       "      <td>0</td>\n",
       "      <td>145</td>\n",
       "      <td>174</td>\n",
       "      <td>0</td>\n",
       "      <td>1</td>\n",
       "      <td>125</td>\n",
       "      <td>1</td>\n",
       "      <td>2.6</td>\n",
       "      <td>0</td>\n",
       "      <td>0</td>\n",
       "      <td>3</td>\n",
       "      <td>0</td>\n",
       "      <td>0</td>\n",
       "      <td>319</td>\n",
       "    </tr>\n",
       "    <tr>\n",
       "      <th>234</th>\n",
       "      <td>234.0</td>\n",
       "      <td>70</td>\n",
       "      <td>1</td>\n",
       "      <td>0</td>\n",
       "      <td>130</td>\n",
       "      <td>322</td>\n",
       "      <td>0</td>\n",
       "      <td>0</td>\n",
       "      <td>109</td>\n",
       "      <td>0</td>\n",
       "      <td>2.4</td>\n",
       "      <td>1</td>\n",
       "      <td>3</td>\n",
       "      <td>2</td>\n",
       "      <td>0</td>\n",
       "      <td>0</td>\n",
       "      <td>452</td>\n",
       "    </tr>\n",
       "    <tr>\n",
       "      <th>238</th>\n",
       "      <td>238.0</td>\n",
       "      <td>77</td>\n",
       "      <td>1</td>\n",
       "      <td>0</td>\n",
       "      <td>125</td>\n",
       "      <td>304</td>\n",
       "      <td>0</td>\n",
       "      <td>0</td>\n",
       "      <td>162</td>\n",
       "      <td>1</td>\n",
       "      <td>0.0</td>\n",
       "      <td>2</td>\n",
       "      <td>3</td>\n",
       "      <td>2</td>\n",
       "      <td>0</td>\n",
       "      <td>0</td>\n",
       "      <td>429</td>\n",
       "    </tr>\n",
       "    <tr>\n",
       "      <th>240</th>\n",
       "      <td>240.0</td>\n",
       "      <td>70</td>\n",
       "      <td>1</td>\n",
       "      <td>2</td>\n",
       "      <td>160</td>\n",
       "      <td>269</td>\n",
       "      <td>0</td>\n",
       "      <td>1</td>\n",
       "      <td>112</td>\n",
       "      <td>1</td>\n",
       "      <td>2.9</td>\n",
       "      <td>1</td>\n",
       "      <td>1</td>\n",
       "      <td>3</td>\n",
       "      <td>0</td>\n",
       "      <td>0</td>\n",
       "      <td>429</td>\n",
       "    </tr>\n",
       "  </tbody>\n",
       "</table>\n",
       "</div>"
      ],
      "text/plain": [
       "        id  age  sex  cp  trestbps  chol  fbs  restecg  thalach  exang  \\\n",
       "25    25.0   71    0   1       160   302    0        1      162      0   \n",
       "60    60.0   71    0   2       110   265    1        0      130      0   \n",
       "129  129.0   74    0   1       120   269    0        0      121      1   \n",
       "144  144.0   76    0   2       140   197    0        2      116      0   \n",
       "145  145.0   70    1   1       156   245    0        0      143      0   \n",
       "151  151.0   71    0   0       112   149    0        1      125      0   \n",
       "225  225.0   70    1   0       145   174    0        1      125      1   \n",
       "234  234.0   70    1   0       130   322    0        0      109      0   \n",
       "238  238.0   77    1   0       125   304    0        0      162      1   \n",
       "240  240.0   70    1   2       160   269    0        1      112      1   \n",
       "\n",
       "     oldpeak  slope  ca  thal  target  test  chol_trestbps_sum  \n",
       "25       0.4      2   2     2       1     0                462  \n",
       "60       0.0      2   1     2       1     0                375  \n",
       "129      0.2      2   1     2       1     0                389  \n",
       "144      1.1      1   0     2       1     0                337  \n",
       "145      0.0      2   0     2       1     0                401  \n",
       "151      1.6      1   0     2       1     0                261  \n",
       "225      2.6      0   0     3       0     0                319  \n",
       "234      2.4      1   3     2       0     0                452  \n",
       "238      0.0      2   3     2       0     0                429  \n",
       "240      2.9      1   1     3       0     0                429  "
      ]
     },
     "execution_count": 31,
     "metadata": {},
     "output_type": "execute_result"
    }
   ],
   "source": [
    "heart_augmented[heart_augmented['age'] >= 70]"
   ]
  },
  {
   "cell_type": "markdown",
   "metadata": {
    "hidden": true
   },
   "source": [
    "Use '&' for \"and\" and '|' for \"or\"."
   ]
  },
  {
   "cell_type": "markdown",
   "metadata": {
    "heading_collapsed": true,
    "hidden": true
   },
   "source": [
    "### Exercise"
   ]
  },
  {
   "cell_type": "markdown",
   "metadata": {
    "hidden": true
   },
   "source": [
    "Display the patients who are 70 or over as well as the patients whose trestbps score is greater than 170."
   ]
  },
  {
   "cell_type": "code",
   "execution_count": 32,
   "metadata": {
    "hidden": true
   },
   "outputs": [
    {
     "name": "stdout",
     "output_type": "stream",
     "text": [
      "        id  age  sex  cp  trestbps  chol  fbs  restecg  thalach  exang  \\\n",
      "8      8.0   52    1   2       172   199    1        1      162      0   \n",
      "25    25.0   71    0   1       160   302    0        1      162      0   \n",
      "60    60.0   71    0   2       110   265    1        0      130      0   \n",
      "101  101.0   59    1   3       178   270    0        0      145      0   \n",
      "110  110.0   64    0   0       180   325    0        1      154      1   \n",
      "129  129.0   74    0   1       120   269    0        0      121      1   \n",
      "144  144.0   76    0   2       140   197    0        2      116      0   \n",
      "145  145.0   70    1   1       156   245    0        0      143      0   \n",
      "151  151.0   71    0   0       112   149    0        1      125      0   \n",
      "203  203.0   68    1   2       180   274    1        0      150      1   \n",
      "223  223.0   56    0   0       200   288    1        0      133      1   \n",
      "225  225.0   70    1   0       145   174    0        1      125      1   \n",
      "234  234.0   70    1   0       130   322    0        0      109      0   \n",
      "238  238.0   77    1   0       125   304    0        0      162      1   \n",
      "240  240.0   70    1   2       160   269    0        1      112      1   \n",
      "241  241.0   59    0   0       174   249    0        1      143      1   \n",
      "248  248.0   54    1   1       192   283    0        0      195      0   \n",
      "260  260.0   66    0   0       178   228    1        1      165      1   \n",
      "266  266.0   55    0   0       180   327    0        2      117      1   \n",
      "\n",
      "     oldpeak  slope  ca  thal  target  test  chol_trestbps_sum  \n",
      "8        0.5      2   0     3       1     0                371  \n",
      "25       0.4      2   2     2       1     0                462  \n",
      "60       0.0      2   1     2       1     0                375  \n",
      "101      4.2      0   0     3       1     0                448  \n",
      "110      0.0      2   0     2       1     0                505  \n",
      "129      0.2      2   1     2       1     0                389  \n",
      "144      1.1      1   0     2       1     0                337  \n",
      "145      0.0      2   0     2       1     0                401  \n",
      "151      1.6      1   0     2       1     0                261  \n",
      "203      1.6      1   0     3       0     0                454  \n",
      "223      4.0      0   2     3       0     0                488  \n",
      "225      2.6      0   0     3       0     0                319  \n",
      "234      2.4      1   3     2       0     0                452  \n",
      "238      0.0      2   3     2       0     0                429  \n",
      "240      2.9      1   1     3       0     0                429  \n",
      "241      0.0      1   0     2       0     0                423  \n",
      "248      0.0      2   1     3       0     0                475  \n",
      "260      1.0      1   2     3       0     0                406  \n",
      "266      3.4      1   0     2       0     0                507  \n"
     ]
    }
   ],
   "source": [
    "filtered_patients = heart_augmented[\n",
    "    (heart_augmented['age'] >= 70) | (heart_augmented['trestbps'] > 170)\n",
    "]\n",
    "\n",
    "print(filtered_patients)\n"
   ]
  },
  {
   "cell_type": "markdown",
   "metadata": {
    "heading_collapsed": true,
    "hidden": true
   },
   "source": [
    "### Exploratory Plot"
   ]
  },
  {
   "cell_type": "markdown",
   "metadata": {
    "hidden": true
   },
   "source": [
    "Using the subframe we just made, let's make a scatter plot of their cholesterol levels vs. age and color by sex:"
   ]
  },
  {
   "cell_type": "code",
   "execution_count": 34,
   "metadata": {
    "hidden": true
   },
   "outputs": [
    {
     "data": {
      "image/png": "[encoded data removed]",
      "text/plain": [
       "<Figure size 640x480 with 1 Axes>"
      ]
     },
     "metadata": {},
     "output_type": "display_data"
    }
   ],
   "source": [
    "at_risk = heart_augmented[\n",
    "    (heart_augmented['age'] >= 70) | (heart_augmented['trestbps'] > 170)\n",
    "]\n",
    "\n",
    "sns.scatterplot(data=at_risk, x='age', y='chol', hue='sex');\n",
    "\n",
    "plt.show()\n"
   ]
  },
  {
   "cell_type": "markdown",
   "metadata": {
    "heading_collapsed": true,
    "hidden": true
   },
   "source": [
    "### `.loc` and `.iloc`"
   ]
  },
  {
   "cell_type": "markdown",
   "metadata": {
    "hidden": true
   },
   "source": [
    "We can use `.loc` to get, say, the first ten values of the age and resting blood pressure (\"trestbps\") columns:"
   ]
  },
  {
   "cell_type": "code",
   "execution_count": 35,
   "metadata": {
    "hidden": true
   },
   "outputs": [
    {
     "data": {
      "text/plain": [
       "<pandas.core.indexing._LocIndexer at 0x30c599770>"
      ]
     },
     "execution_count": 35,
     "metadata": {},
     "output_type": "execute_result"
    }
   ],
   "source": [
    "heart_augmented.loc"
   ]
  },
  {
   "cell_type": "code",
   "execution_count": 36,
   "metadata": {
    "hidden": true
   },
   "outputs": [
    {
     "data": {
      "text/html": [
       "<div>\n",
       "<style scoped>\n",
       "    .dataframe tbody tr th:only-of-type {\n",
       "        vertical-align: middle;\n",
       "    }\n",
       "\n",
       "    .dataframe tbody tr th {\n",
       "        vertical-align: top;\n",
       "    }\n",
       "\n",
       "    .dataframe thead th {\n",
       "        text-align: right;\n",
       "    }\n",
       "</style>\n",
       "<table border=\"1\" class=\"dataframe\">\n",
       "  <thead>\n",
       "    <tr style=\"text-align: right;\">\n",
       "      <th></th>\n",
       "      <th>age</th>\n",
       "      <th>trestbps</th>\n",
       "    </tr>\n",
       "  </thead>\n",
       "  <tbody>\n",
       "    <tr>\n",
       "      <th>0</th>\n",
       "      <td>63</td>\n",
       "      <td>145</td>\n",
       "    </tr>\n",
       "    <tr>\n",
       "      <th>1</th>\n",
       "      <td>37</td>\n",
       "      <td>130</td>\n",
       "    </tr>\n",
       "    <tr>\n",
       "      <th>2</th>\n",
       "      <td>41</td>\n",
       "      <td>130</td>\n",
       "    </tr>\n",
       "    <tr>\n",
       "      <th>3</th>\n",
       "      <td>56</td>\n",
       "      <td>120</td>\n",
       "    </tr>\n",
       "    <tr>\n",
       "      <th>4</th>\n",
       "      <td>57</td>\n",
       "      <td>120</td>\n",
       "    </tr>\n",
       "    <tr>\n",
       "      <th>5</th>\n",
       "      <td>57</td>\n",
       "      <td>140</td>\n",
       "    </tr>\n",
       "    <tr>\n",
       "      <th>6</th>\n",
       "      <td>56</td>\n",
       "      <td>140</td>\n",
       "    </tr>\n",
       "    <tr>\n",
       "      <th>7</th>\n",
       "      <td>44</td>\n",
       "      <td>120</td>\n",
       "    </tr>\n",
       "    <tr>\n",
       "      <th>8</th>\n",
       "      <td>52</td>\n",
       "      <td>172</td>\n",
       "    </tr>\n",
       "    <tr>\n",
       "      <th>9</th>\n",
       "      <td>57</td>\n",
       "      <td>150</td>\n",
       "    </tr>\n",
       "  </tbody>\n",
       "</table>\n",
       "</div>"
      ],
      "text/plain": [
       "   age  trestbps\n",
       "0   63       145\n",
       "1   37       130\n",
       "2   41       130\n",
       "3   56       120\n",
       "4   57       120\n",
       "5   57       140\n",
       "6   56       140\n",
       "7   44       120\n",
       "8   52       172\n",
       "9   57       150"
      ]
     },
     "execution_count": 36,
     "metadata": {},
     "output_type": "execute_result"
    }
   ],
   "source": [
    "heart_augmented.loc[:9, ['age', 'trestbps']]"
   ]
  },
  {
   "cell_type": "markdown",
   "metadata": {
    "hidden": true
   },
   "source": [
    "`.iloc` is used for selecting locations in the DataFrame **by number**:"
   ]
  },
  {
   "cell_type": "code",
   "execution_count": 37,
   "metadata": {
    "hidden": true
   },
   "outputs": [
    {
     "data": {
      "text/plain": [
       "<pandas.core.indexing._iLocIndexer at 0x30c591310>"
      ]
     },
     "execution_count": 37,
     "metadata": {},
     "output_type": "execute_result"
    }
   ],
   "source": [
    "heart_augmented.iloc"
   ]
  },
  {
   "cell_type": "code",
   "execution_count": 38,
   "metadata": {
    "hidden": true
   },
   "outputs": [
    {
     "data": {
      "text/plain": [
       "3.0"
      ]
     },
     "execution_count": 38,
     "metadata": {},
     "output_type": "execute_result"
    }
   ],
   "source": [
    "heart_augmented.iloc[3, 0]"
   ]
  },
  {
   "cell_type": "code",
   "execution_count": 39,
   "metadata": {
    "hidden": true
   },
   "outputs": [
    {
     "data": {
      "text/html": [
       "<div>\n",
       "<style scoped>\n",
       "    .dataframe tbody tr th:only-of-type {\n",
       "        vertical-align: middle;\n",
       "    }\n",
       "\n",
       "    .dataframe tbody tr th {\n",
       "        vertical-align: top;\n",
       "    }\n",
       "\n",
       "    .dataframe thead th {\n",
       "        text-align: right;\n",
       "    }\n",
       "</style>\n",
       "<table border=\"1\" class=\"dataframe\">\n",
       "  <thead>\n",
       "    <tr style=\"text-align: right;\">\n",
       "      <th></th>\n",
       "      <th>id</th>\n",
       "      <th>age</th>\n",
       "      <th>sex</th>\n",
       "      <th>cp</th>\n",
       "      <th>trestbps</th>\n",
       "      <th>chol</th>\n",
       "      <th>fbs</th>\n",
       "      <th>restecg</th>\n",
       "      <th>thalach</th>\n",
       "      <th>exang</th>\n",
       "      <th>oldpeak</th>\n",
       "      <th>slope</th>\n",
       "      <th>ca</th>\n",
       "      <th>thal</th>\n",
       "      <th>target</th>\n",
       "      <th>test</th>\n",
       "      <th>chol_trestbps_sum</th>\n",
       "    </tr>\n",
       "  </thead>\n",
       "  <tbody>\n",
       "    <tr>\n",
       "      <th>0</th>\n",
       "      <td>0.0</td>\n",
       "      <td>63</td>\n",
       "      <td>1</td>\n",
       "      <td>3</td>\n",
       "      <td>145</td>\n",
       "      <td>233</td>\n",
       "      <td>1</td>\n",
       "      <td>0</td>\n",
       "      <td>150</td>\n",
       "      <td>0</td>\n",
       "      <td>2.3</td>\n",
       "      <td>0</td>\n",
       "      <td>0</td>\n",
       "      <td>1</td>\n",
       "      <td>1</td>\n",
       "      <td>0</td>\n",
       "      <td>378</td>\n",
       "    </tr>\n",
       "    <tr>\n",
       "      <th>1</th>\n",
       "      <td>1.0</td>\n",
       "      <td>37</td>\n",
       "      <td>1</td>\n",
       "      <td>2</td>\n",
       "      <td>130</td>\n",
       "      <td>250</td>\n",
       "      <td>0</td>\n",
       "      <td>1</td>\n",
       "      <td>187</td>\n",
       "      <td>0</td>\n",
       "      <td>3.5</td>\n",
       "      <td>0</td>\n",
       "      <td>0</td>\n",
       "      <td>2</td>\n",
       "      <td>1</td>\n",
       "      <td>0</td>\n",
       "      <td>380</td>\n",
       "    </tr>\n",
       "    <tr>\n",
       "      <th>2</th>\n",
       "      <td>2.0</td>\n",
       "      <td>41</td>\n",
       "      <td>0</td>\n",
       "      <td>1</td>\n",
       "      <td>130</td>\n",
       "      <td>204</td>\n",
       "      <td>0</td>\n",
       "      <td>0</td>\n",
       "      <td>172</td>\n",
       "      <td>0</td>\n",
       "      <td>1.4</td>\n",
       "      <td>2</td>\n",
       "      <td>0</td>\n",
       "      <td>2</td>\n",
       "      <td>1</td>\n",
       "      <td>0</td>\n",
       "      <td>334</td>\n",
       "    </tr>\n",
       "    <tr>\n",
       "      <th>3</th>\n",
       "      <td>3.0</td>\n",
       "      <td>56</td>\n",
       "      <td>1</td>\n",
       "      <td>1</td>\n",
       "      <td>120</td>\n",
       "      <td>236</td>\n",
       "      <td>0</td>\n",
       "      <td>1</td>\n",
       "      <td>178</td>\n",
       "      <td>0</td>\n",
       "      <td>0.8</td>\n",
       "      <td>2</td>\n",
       "      <td>0</td>\n",
       "      <td>2</td>\n",
       "      <td>1</td>\n",
       "      <td>0</td>\n",
       "      <td>356</td>\n",
       "    </tr>\n",
       "    <tr>\n",
       "      <th>4</th>\n",
       "      <td>4.0</td>\n",
       "      <td>57</td>\n",
       "      <td>0</td>\n",
       "      <td>0</td>\n",
       "      <td>120</td>\n",
       "      <td>354</td>\n",
       "      <td>0</td>\n",
       "      <td>1</td>\n",
       "      <td>163</td>\n",
       "      <td>1</td>\n",
       "      <td>0.6</td>\n",
       "      <td>2</td>\n",
       "      <td>0</td>\n",
       "      <td>2</td>\n",
       "      <td>1</td>\n",
       "      <td>0</td>\n",
       "      <td>474</td>\n",
       "    </tr>\n",
       "  </tbody>\n",
       "</table>\n",
       "</div>"
      ],
      "text/plain": [
       "    id  age  sex  cp  trestbps  chol  fbs  restecg  thalach  exang  oldpeak  \\\n",
       "0  0.0   63    1   3       145   233    1        0      150      0      2.3   \n",
       "1  1.0   37    1   2       130   250    0        1      187      0      3.5   \n",
       "2  2.0   41    0   1       130   204    0        0      172      0      1.4   \n",
       "3  3.0   56    1   1       120   236    0        1      178      0      0.8   \n",
       "4  4.0   57    0   0       120   354    0        1      163      1      0.6   \n",
       "\n",
       "   slope  ca  thal  target  test  chol_trestbps_sum  \n",
       "0      0   0     1       1     0                378  \n",
       "1      0   0     2       1     0                380  \n",
       "2      2   0     2       1     0                334  \n",
       "3      2   0     2       1     0                356  \n",
       "4      2   0     2       1     0                474  "
      ]
     },
     "execution_count": 39,
     "metadata": {},
     "output_type": "execute_result"
    }
   ],
   "source": [
    "heart_augmented.head()"
   ]
  },
  {
   "cell_type": "markdown",
   "metadata": {
    "heading_collapsed": true,
    "hidden": true
   },
   "source": [
    "### Exercise\n",
    "\n",
    "How would we get the same slice as just above by using .iloc() instead of .loc()?"
   ]
  },
  {
   "cell_type": "code",
   "execution_count": 40,
   "metadata": {
    "hidden": true
   },
   "outputs": [
    {
     "data": {
      "image/png": "[encoded data removed]",
      "text/plain": [
       "<Figure size 640x480 with 1 Axes>"
      ]
     },
     "metadata": {},
     "output_type": "display_data"
    }
   ],
   "source": [
    "indices = heart_augmented[(heart_augmented['age'] >= 70) | (heart_augmented['trestbps'] > 170)].index\n",
    "\n",
    "at_risk = heart_augmented.iloc[indices]\n",
    "\n",
    "sns.scatterplot(data=at_risk, x='age', y='chol', hue='sex');\n",
    "\n",
    "plt.show()\n",
    "\n"
   ]
  },
  {
   "cell_type": "markdown",
   "metadata": {
    "heading_collapsed": true
   },
   "source": [
    "## Statistics"
   ]
  },
  {
   "cell_type": "markdown",
   "metadata": {
    "heading_collapsed": true,
    "hidden": true
   },
   "source": [
    "### `.mean()`"
   ]
  },
  {
   "cell_type": "code",
   "execution_count": 41,
   "metadata": {
    "hidden": true
   },
   "outputs": [
    {
     "name": "stdout",
     "output_type": "stream",
     "text": [
      "age          54.239344\n",
      "chol        246.091803\n",
      "trestbps    131.580328\n",
      "dtype: float64\n"
     ]
    }
   ],
   "source": [
    "\n",
    "print(heart_augmented[['age', 'chol', 'trestbps']].mean())\n"
   ]
  },
  {
   "cell_type": "markdown",
   "metadata": {
    "hidden": true
   },
   "source": [
    "Be careful! Some of these will are not straightforwardly interpretable. What does an average \"sex\" of 0.682 mean?"
   ]
  },
  {
   "cell_type": "markdown",
   "metadata": {
    "heading_collapsed": true,
    "hidden": true
   },
   "source": [
    "### `.min()`"
   ]
  },
  {
   "cell_type": "code",
   "execution_count": 42,
   "metadata": {
    "hidden": true
   },
   "outputs": [
    {
     "name": "stdout",
     "output_type": "stream",
     "text": [
      "age          29\n",
      "chol        126\n",
      "trestbps     94\n",
      "dtype: int64\n"
     ]
    }
   ],
   "source": [
    "\n",
    "print(heart_augmented[['age', 'chol', 'trestbps']].min())\n"
   ]
  },
  {
   "cell_type": "markdown",
   "metadata": {
    "heading_collapsed": true,
    "hidden": true
   },
   "source": [
    "### `.max()`"
   ]
  },
  {
   "cell_type": "code",
   "execution_count": 43,
   "metadata": {
    "hidden": true
   },
   "outputs": [
    {
     "name": "stdout",
     "output_type": "stream",
     "text": [
      "age          77\n",
      "chol        564\n",
      "trestbps    200\n",
      "dtype: int64\n"
     ]
    }
   ],
   "source": [
    "\n",
    "print(heart_augmented[['age', 'chol', 'trestbps']].max())\n"
   ]
  },
  {
   "cell_type": "markdown",
   "metadata": {
    "heading_collapsed": true
   },
   "source": [
    "## Series Methods"
   ]
  },
  {
   "cell_type": "markdown",
   "metadata": {
    "heading_collapsed": true,
    "hidden": true
   },
   "source": [
    "### `.value_counts()`"
   ]
  },
  {
   "cell_type": "markdown",
   "metadata": {
    "hidden": true
   },
   "source": [
    "How many different values does slope have? What about sex? And target?"
   ]
  },
  {
   "cell_type": "code",
   "execution_count": 44,
   "metadata": {
    "hidden": true,
    "scrolled": true
   },
   "outputs": [
    {
     "data": {
      "text/plain": [
       "slope\n",
       "2    142\n",
       "1    142\n",
       "0     21\n",
       "Name: count, dtype: int64"
      ]
     },
     "execution_count": 44,
     "metadata": {},
     "output_type": "execute_result"
    }
   ],
   "source": [
    "heart_augmented['slope'].value_counts()"
   ]
  },
  {
   "cell_type": "code",
   "execution_count": 45,
   "metadata": {
    "hidden": true
   },
   "outputs": [
    {
     "data": {
      "text/plain": [
       "sex\n",
       "1    208\n",
       "0     97\n",
       "Name: count, dtype: int64"
      ]
     },
     "execution_count": 45,
     "metadata": {},
     "output_type": "execute_result"
    }
   ],
   "source": [
    "heart_augmented['sex'].value_counts()"
   ]
  },
  {
   "cell_type": "markdown",
   "metadata": {
    "heading_collapsed": true,
    "hidden": true
   },
   "source": [
    "### `.sort_values()`"
   ]
  },
  {
   "cell_type": "code",
   "execution_count": 46,
   "metadata": {
    "hidden": true
   },
   "outputs": [
    {
     "data": {
      "text/plain": [
       "72     29\n",
       "304    30\n",
       "58     34\n",
       "125    34\n",
       "65     35\n",
       "       ..\n",
       "25     71\n",
       "60     71\n",
       "129    74\n",
       "144    76\n",
       "238    77\n",
       "Name: age, Length: 305, dtype: int64"
      ]
     },
     "execution_count": 46,
     "metadata": {},
     "output_type": "execute_result"
    }
   ],
   "source": [
    "heart_augmented['age'].sort_values()"
   ]
  },
  {
   "cell_type": "markdown",
   "metadata": {
    "heading_collapsed": true
   },
   "source": [
    "## `pandas`-Native Plotting"
   ]
  },
  {
   "cell_type": "markdown",
   "metadata": {
    "hidden": true
   },
   "source": [
    "The `.plot()` and `.hist()` methods available for DataFrames use a wrapper around `matplotlib`:"
   ]
  },
  {
   "cell_type": "code",
   "execution_count": 47,
   "metadata": {
    "hidden": true
   },
   "outputs": [
    {
     "data": {
      "image/png": "[encoded data removed]",
      "text/plain": [
       "<Figure size 640x480 with 1 Axes>"
      ]
     },
     "metadata": {},
     "output_type": "display_data"
    }
   ],
   "source": [
    "heart_augmented.plot(x='age', y='trestbps', kind='scatter');"
   ]
  },
  {
   "cell_type": "code",
   "execution_count": 48,
   "metadata": {
    "hidden": true
   },
   "outputs": [
    {
     "data": {
      "image/png": "[encoded data removed]",
      "text/plain": [
       "<Figure size 640x480 with 1 Axes>"
      ]
     },
     "metadata": {},
     "output_type": "display_data"
    }
   ],
   "source": [
    "heart_augmented.hist(column='chol');"
   ]
  },
  {
   "cell_type": "markdown",
   "metadata": {
    "heading_collapsed": true,
    "hidden": true
   },
   "source": [
    "### Exercises"
   ]
  },
  {
   "cell_type": "markdown",
   "metadata": {
    "hidden": true
   },
   "source": [
    "1. Make a bar plot of \"age\" vs. \"slope\" for the `heart_augmented` DataFrame."
   ]
  },
  {
   "cell_type": "code",
   "execution_count": 49,
   "metadata": {},
   "outputs": [
    {
     "data": {
      "image/png": "[encoded data removed]",
      "text/plain": [
       "<Figure size 640x480 with 1 Axes>"
      ]
     },
     "metadata": {},
     "output_type": "display_data"
    }
   ],
   "source": [
    "\n",
    "\n",
    "sns.barplot(data=heart_augmented, x='age', y='slope')\n",
    "\n",
    "plt.show()"
   ]
  },
  {
   "cell_type": "markdown",
   "metadata": {
    "hidden": true
   },
   "source": [
    "2. Make a histogram of ages for **just the men** in `heart_augmented` (heart_augmented['sex']=1)."
   ]
  },
  {
   "cell_type": "code",
   "execution_count": 50,
   "metadata": {},
   "outputs": [
    {
     "data": {
      "image/png": "[encoded data removed]",
      "text/plain": [
       "<Figure size 640x480 with 1 Axes>"
      ]
     },
     "metadata": {},
     "output_type": "display_data"
    }
   ],
   "source": [
    "\n",
    "men_df = heart_augmented[heart_augmented['sex'] == 1]\n",
    "\n",
    "sns.histplot(data=men_df, x='age', kde=True)\n",
    "\n",
    "plt.show()"
   ]
  },
  {
   "cell_type": "markdown",
   "metadata": {
    "hidden": true
   },
   "source": [
    "3. Make separate scatter plots of cholesterol vs. resting systolic blood pressure for the target=0 and the target=1 groups. Put both plots on the same figure and give each an appropriate title."
   ]
  },
  {
   "cell_type": "code",
   "execution_count": 51,
   "metadata": {},
   "outputs": [
    {
     "data": {
      "image/png": "[encoded data removed]",
      "text/plain": [
       "<Figure size 1500x500 with 2 Axes>"
      ]
     },
     "metadata": {},
     "output_type": "display_data"
    }
   ],
   "source": [
    "fig, axes = plt.subplots(1, 2, figsize=(15, 5))\n",
    "\n",
    "sns.scatterplot(data=heart_augmented[heart_augmented['target'] == 0], \n",
    "                x='trestbps', y='chol', ax=axes[0])\n",
    "axes[0].set_title('Cholesterol vs. Resting BP (target=0)')\n",
    "axes[0].set_xlabel('Resting Systolic BP')\n",
    "axes[0].set_ylabel('Cholesterol')\n",
    "\n",
    "sns.scatterplot(data=heart_augmented[heart_augmented['target'] == 1], \n",
    "                x='trestbps', y='chol', ax=axes[1])\n",
    "axes[1].set_title('Cholesterol vs. Resting BP (target=1)')\n",
    "axes[1].set_xlabel('Resting Systolic BP')\n",
    "axes[1].set_ylabel('Cholesterol')\n",
    "\n",
    "plt.tight_layout()\n",
    "plt.show()"
   ]
  }
 ],
 "metadata": {
  "kernelspec": {
   "display_name": "Python 3 (ipykernel)",
   "language": "python",
   "name": "python3"
  },
  "language_info": {
   "codemirror_mode": {
    "name": "ipython",
    "version": 3
   },
   "file_extension": ".py",
   "mimetype": "text/x-python",
   "name": "python",
   "nbconvert_exporter": "python",
   "pygments_lexer": "ipython3",
   "version": "3.12.3"
  },
  "latex_envs": {
   "LaTeX_envs_menu_present": true,
   "autoclose": false,
   "autocomplete": true,
   "bibliofile": "biblio.bib",
   "cite_by": "apalike",
   "current_citInitial": 1,
   "eqLabelWithNumbers": true,
   "eqNumInitial": 1,
   "hotkeys": {
    "equation": "Ctrl-E",
    "itemize": "Ctrl-I"
   },
   "labels_anchors": false,
   "latex_user_defs": false,
   "report_style_numbering": false,
   "user_envs_cfg": false
  },
  "toc": {
   "base_numbering": 1,
   "nav_menu": {},
   "number_sections": true,
   "sideBar": true,
   "skip_h1_title": false,
   "title_cell": "Table of Contents",
   "title_sidebar": "Contents",
   "toc_cell": false,
   "toc_position": {
    "height": "calc(100% - 180px)",
    "left": "10px",
    "top": "150px",
    "width": "384px"
   },
   "toc_section_display": true,
   "toc_window_display": false
  }
 },
 "nbformat": 4,
 "nbformat_minor": 2
}
